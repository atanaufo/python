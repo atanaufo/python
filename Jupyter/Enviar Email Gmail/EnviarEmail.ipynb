{
 "cells": [
  {
   "cell_type": "code",
   "execution_count": 13,
   "id": "e914942f",
   "metadata": {},
   "outputs": [],
   "source": [
    "import smtplib\n",
    "import email.message\n",
    "\n",
    "emailRemetente = \"infortotalbhz@gmail.com\"\n",
    "emailDestino = \"atanaufo.ramalho@gmail.com\"\n",
    "emailAssunto = \"Autorização de Pagamento do Fornecedor - Fulano de Tal\"\n",
    "arquivoAnexo = \"C:\\Anexos\\CONFIRMADO.JPG\"\n",
    "\n",
    "def enviar_email():\n",
    "    corpo_email = \"\"\"\n",
    "    <p>Olá teste de envio de e-mail semi automático!</p>\n",
    "    <p>Usando Python</p>   \n",
    "    \"\"\"\n",
    "\n",
    "    # Estrutura do e-mail:\n",
    "    msg = email.message.Message()\n",
    "    msg['Subjetc'] = emailAssunto\n",
    "    msg['From'] = emailRemetente\n",
    "    msg['To'] = emailDestino\n",
    "    password = 'mhumdjlggqrdfgzi'\n",
    "    msg.add_header('Content-Type','text/html')\n",
    "    msg.set_payload(corpo_email )\n",
    "    #msg.attach(corpo_email)\n",
    "\n",
    "        # Credenciais de Acesso ao e-mail:\n",
    "    s = smtplib.SMTP('smtp.gmail.com: 587')\n",
    "    s.starttls()\n",
    "    s.login(msg['From'], password)\n",
    "    s.sendmail(msg['From'],[msg['To']], msg.as_string().encode('utf-8'))\n",
    "    s.quit()\n",
    "    \n",
    "    print('Email Enviado.')\n"
   ]
  },
  {
   "cell_type": "code",
   "execution_count": 14,
   "id": "787060a0",
   "metadata": {},
   "outputs": [
    {
     "ename": "AttributeError",
     "evalue": "'Message' object has no attribute 'Attachments'",
     "output_type": "error",
     "traceback": [
      "\u001b[1;31m---------------------------------------------------------------------------\u001b[0m",
      "\u001b[1;31mAttributeError\u001b[0m                            Traceback (most recent call last)",
      "\u001b[1;32m~\\AppData\\Local\\Temp\\ipykernel_11728\\4212706956.py\u001b[0m in \u001b[0;36m<module>\u001b[1;34m\u001b[0m\n\u001b[1;32m----> 1\u001b[1;33m \u001b[0menviar_email\u001b[0m\u001b[1;33m(\u001b[0m\u001b[1;33m)\u001b[0m\u001b[1;33m\u001b[0m\u001b[1;33m\u001b[0m\u001b[0m\n\u001b[0m",
      "\u001b[1;32m~\\AppData\\Local\\Temp\\ipykernel_11728\\1894721995.py\u001b[0m in \u001b[0;36menviar_email\u001b[1;34m()\u001b[0m\n\u001b[0;32m     21\u001b[0m     \u001b[0mmsg\u001b[0m\u001b[1;33m.\u001b[0m\u001b[0madd_header\u001b[0m\u001b[1;33m(\u001b[0m\u001b[1;34m'Content-Type'\u001b[0m\u001b[1;33m,\u001b[0m\u001b[1;34m'text/html'\u001b[0m\u001b[1;33m)\u001b[0m\u001b[1;33m\u001b[0m\u001b[1;33m\u001b[0m\u001b[0m\n\u001b[0;32m     22\u001b[0m     \u001b[0mmsg\u001b[0m\u001b[1;33m.\u001b[0m\u001b[0mset_payload\u001b[0m\u001b[1;33m(\u001b[0m\u001b[0mcorpo_email\u001b[0m \u001b[1;33m)\u001b[0m\u001b[1;33m\u001b[0m\u001b[1;33m\u001b[0m\u001b[0m\n\u001b[1;32m---> 23\u001b[1;33m     \u001b[0mmsg\u001b[0m\u001b[1;33m.\u001b[0m\u001b[0mAttachments\u001b[0m\u001b[1;33m.\u001b[0m\u001b[0mAdd\u001b[0m\u001b[1;33m(\u001b[0m\u001b[0marquivoAnexo\u001b[0m\u001b[1;33m)\u001b[0m\u001b[1;33m\u001b[0m\u001b[1;33m\u001b[0m\u001b[0m\n\u001b[0m\u001b[0;32m     24\u001b[0m \u001b[1;33m\u001b[0m\u001b[0m\n\u001b[0;32m     25\u001b[0m         \u001b[1;31m# Credenciais de Acesso ao e-mail:\u001b[0m\u001b[1;33m\u001b[0m\u001b[1;33m\u001b[0m\u001b[0m\n",
      "\u001b[1;31mAttributeError\u001b[0m: 'Message' object has no attribute 'Attachments'"
     ]
    }
   ],
   "source": [
    "enviar_email()"
   ]
  },
  {
   "cell_type": "markdown",
   "id": "a36be9ae",
   "metadata": {},
   "source": [
    "Configuração no Gmail:\n",
    "\n",
    "\n",
    "1 - Para isso deverá acessar o seu e-mail e ir em \"Gerenciar sua conta do google\";\n",
    "2 - Deverá ativar a verificação em duas etapas, caso não esteja configurado;\n",
    "3 - Criar uma senha para ser utilizado no aplicativo permitindo o uso do Gmail;\n",
    "\n",
    "\n"
   ]
  }
 ],
 "metadata": {
  "kernelspec": {
   "display_name": "Python 3 (ipykernel)",
   "language": "python",
   "name": "python3"
  },
  "language_info": {
   "codemirror_mode": {
    "name": "ipython",
    "version": 3
   },
   "file_extension": ".py",
   "mimetype": "text/x-python",
   "name": "python",
   "nbconvert_exporter": "python",
   "pygments_lexer": "ipython3",
   "version": "3.9.13"
  }
 },
 "nbformat": 4,
 "nbformat_minor": 5
}
