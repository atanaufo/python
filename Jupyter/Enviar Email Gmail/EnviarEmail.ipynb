{
 "cells": [
  {
   "cell_type": "code",
   "execution_count": 3,
   "id": "e914942f",
   "metadata": {},
   "outputs": [],
   "source": [
    "import smtplib\n",
    "import email.message\n",
    "\n",
    "emailRemetente = \"infortotalbhz@gmail.com\"\n",
    "emailDestino = \"atanaufo.ramalho@gmail.com\"\n",
    "emailAssunto = \"Autorização de Pagamento do Fornecedor - Fulano de Tal\"\n",
    "#arquivoAnexo = \"C:\\Anexos\\CONFIRMADO.JPG\"\n",
    "\n",
    "def enviar_email():\n",
    "    corpo_email = \"\"\"\n",
    "    <p>Olá teste de envio de e-mail semi automático!</p>\n",
    "    <p>Usando Python</p>   \n",
    "    \"\"\"\n",
    "\n",
    "    # Estrutura do e-mail:\n",
    "    msg = email.message.Message()\n",
    "    msg['Subjetc'] = emailAssunto\n",
    "    msg['From'] = emailRemetente\n",
    "    msg['To'] = emailDestino\n",
    "    password = 'mhumdjlggqrdfgzi'\n",
    "    msg.add_header('Content-Type','text/html')\n",
    "    msg.set_payload(corpo_email )\n",
    "    #msg.attach(corpo_email)\n",
    "\n",
    "        # Credenciais de Acesso ao e-mail:\n",
    "    s = smtplib.SMTP('smtp.gmail.com: 587')\n",
    "    s.starttls()\n",
    "    s.login(msg['From'], password)\n",
    "    s.sendmail(msg['From'],[msg['To']], msg.as_string().encode('utf-8'))\n",
    "    s.quit()\n",
    "    \n",
    "    print('Email Enviado.')\n"
   ]
  },
  {
   "cell_type": "code",
   "execution_count": 4,
   "id": "40d37eaa",
   "metadata": {},
   "outputs": [
    {
     "name": "stdout",
     "output_type": "stream",
     "text": [
      "Email Enviado.\n"
     ]
    }
   ],
   "source": [
    "enviar_email();"
   ]
  },
  {
   "cell_type": "markdown",
   "id": "a36be9ae",
   "metadata": {},
   "source": [
    "Configuração no Gmail:\n",
    "\n",
    "\n",
    "1 - Para isso deverá acessar o seu e-mail e ir em \"Gerenciar sua conta do google\";\n",
    "2 - Deverá ativar a verificação em duas etapas, caso não esteja configurado;\n",
    "3 - Criar uma senha para ser utilizado no aplicativo permitindo o uso do Gmail;\n",
    "\n",
    "\n"
   ]
  }
 ],
 "metadata": {
  "kernelspec": {
   "display_name": "Python 3 (ipykernel)",
   "language": "python",
   "name": "python3"
  },
  "language_info": {
   "codemirror_mode": {
    "name": "ipython",
    "version": 3
   },
   "file_extension": ".py",
   "mimetype": "text/x-python",
   "name": "python",
   "nbconvert_exporter": "python",
   "pygments_lexer": "ipython3",
   "version": "3.12.1"
  }
 },
 "nbformat": 4,
 "nbformat_minor": 5
}
