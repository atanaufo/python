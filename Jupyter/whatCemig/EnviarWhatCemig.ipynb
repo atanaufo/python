{
 "cells": [
  {
   "cell_type": "markdown",
   "metadata": {},
   "source": [
    "# Criação de automação via Selenium para envio de whatsapp para Cemig.\n",
    "\n",
    "Caso necessário assistir vídeo aula referente o [Selenium](https://www.youtube.com/watch?v=8AMNaVt0z_M&t=0s)\n",
    "\n",
    "\n"
   ]
  },
  {
   "cell_type": "markdown",
   "metadata": {},
   "source": [
    "### Ponderações:\n",
    "\n",
    "* Não será consumido nenhum API Oficial ou de Terceiros;\n",
    "* Utilizaremos o Whatsapp Web (já devidamente autenticado) para realizar a comunicação;\n",
    "* Instrução semelhante: \n",
    "```\n",
    "https://web.whatsapp.com/send?phone=numero&text=texto\n",
    "\n",
    "```\n",
    "\n",
    "* Caso não tenha sido instalado a biblioteca do Selenium. Proceder via terminal:\n",
    "```\n",
    "pip install selenium \n",
    "```\n",
    "\n",
    "* Utilizaremos o navegador Google Chrome para execução e para isso deveremos realizar o download e instalação do [ChromeDriver](https://chromedriver.chromium.org/downloads) que corresponde a versão do navegador já instalado.\n",
    "\n",
    "* Depois do download, abrir o arquivo comprimido e salvar o executável dentro da sua pasta do projeto.\n",
    "\n",
    "\n",
    "\n",
    "\n",
    "\n"
   ]
  },
  {
   "cell_type": "code",
   "execution_count": 14,
   "metadata": {},
   "outputs": [],
   "source": [
    "from selenium import webdriver\n",
    "from selenium.webdriver.common.keys import Keys\n",
    "from selenium.webdriver.common.by import By\n",
    "\n",
    "navegador = webdriver.Chrome()\n",
    "navegador.get(\"https://web.whatsapp.com/\")"
   ]
  },
  {
   "cell_type": "code",
   "execution_count": 19,
   "metadata": {},
   "outputs": [],
   "source": [
    "# Nesta etapa o whatsapp já esteja carregado no webdriver:\n",
    "\n",
    "# Iremos importar uma tabela para a memória:\n",
    "\n",
    "import pandas as pd\n",
    "\n",
    "tabela = pd.read_excel(\"Envios.xlsx\")\n",
    "\n",
    "#display(tabela) # Para visualizar o conteúdo da tabela importada na memória."
   ]
  },
  {
   "cell_type": "code",
   "execution_count": 30,
   "metadata": {},
   "outputs": [],
   "source": [
    "# Lib para converter texto normal em Encode.\n",
    "import urllib\n",
    "import urllib.parse\n",
    "\n",
    "# Percorrer cada linha da tabela.   \n",
    "for linha in tabela.index:\n",
    "    # Extrair a linha e coluna:\n",
    "    nome = tabela.loc[linha, \"nome\"]\n",
    "    mensagem = tabela.loc[linha, \"mensagem\"]\n",
    "    arquivo = tabela.loc[linha, \"arquivo\"]\n",
    "    numero = tabela.loc[linha, \"telefone\"]\n",
    "\n",
    "    # Tratamento do texto Placeholder\n",
    "    texto = mensagem.replace(\"Fulano\", nome)\n",
    "    texto = urllib.parse.quote(texto)\n",
    "    #print(texto)\n",
    "\n",
    "    # Enviar mensagem.\n",
    "    link = f\"https://web.whatsapp.com/send?phone={numero}&text={texto}\"\n",
    "    navegador.get(link)\n",
    "\n",
    "    # Esperar a tela do whatsapp web carregar:\n",
    "\n",
    "    # Pressionar o botão de enviar:\n",
    "    \n"
   ]
  },
  {
   "cell_type": "code",
   "execution_count": 32,
   "metadata": {},
   "outputs": [],
   "source": [
    "navegador.find_element(By.XPATH ,'//*[@id=\"main\"]/footer/div[1]/div/span[2]/div/div[2]/div[2]/button/span').click()\n"
   ]
  }
 ],
 "metadata": {
  "kernelspec": {
   "display_name": "Python 3",
   "language": "python",
   "name": "python3"
  },
  "language_info": {
   "codemirror_mode": {
    "name": "ipython",
    "version": 3
   },
   "file_extension": ".py",
   "mimetype": "text/x-python",
   "name": "python",
   "nbconvert_exporter": "python",
   "pygments_lexer": "ipython3",
   "version": "3.12.1"
  }
 },
 "nbformat": 4,
 "nbformat_minor": 2
}
