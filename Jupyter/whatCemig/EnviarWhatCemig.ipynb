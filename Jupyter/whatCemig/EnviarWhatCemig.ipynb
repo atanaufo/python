{
 "cells": [
  {
   "cell_type": "markdown",
   "metadata": {},
   "source": [
    "# Criação de automação via Selenium para envio de whatsapp para Cemig.\n",
    "\n",
    "Caso necessário assistir vídeo aula referente o [Selenium](https://www.youtube.com/watch?v=8AMNaVt0z_M&t=0s)\n",
    "\n",
    "\n"
   ]
  },
  {
   "cell_type": "markdown",
   "metadata": {},
   "source": [
    "### Ponderações:\n",
    "\n",
    "* Não será consumido nenhum API Oficial ou de Terceiros;\n",
    "* Utilizaremos o Whatsapp Web (já devidamente autenticado) para realizar a comunicação;\n",
    "* Instrução semelhante: \n",
    "```\n",
    "https://web.whatsapp.com/send?phone=numero&text=texto\n",
    "\n",
    "```\n",
    "\n",
    "* Caso não tenha sido instalado a biblioteca do Selenium. Proceder via terminal:\n",
    "```\n",
    "pip install selenium \n",
    "```\n",
    "\n",
    "* Utilizaremos o navegador Google Chrome para execução e para isso deveremos realizar o download e instalação do [ChromeDriver](https://chromedriver.chromium.org/downloads) que corresponde a versão do navegador já instalado.\n",
    "\n",
    "* Depois do download, abrir o arquivo comprimido e salvar o executável dentro da sua pasta do projeto.\n",
    "\n",
    "\n",
    "\n",
    "\n",
    "\n"
   ]
  },
  {
   "cell_type": "code",
   "execution_count": 1,
   "metadata": {},
   "outputs": [],
   "source": [
    "from selenium import webdriver\n",
    "from selenium.webdriver.common.keys import Keys\n",
    "from selenium.webdriver.common.by import By\n",
    "\n",
    "import time\n",
    "\n",
    "navegador = webdriver.Chrome()\n",
    "navegador.get(\"https://web.whatsapp.com/\")\n",
    "\n",
    "    # Esperar a tela do whatsapp web carregar assim que carregar um elemento identificado como principal:\n",
    "while len(navegador.find_elements(By.ID,'side')) < 1: # Enquanto a lista de elementos não conter side.\n",
    "    time.sleep(1)\n",
    "time.sleep(2)"
   ]
  },
  {
   "cell_type": "code",
   "execution_count": 18,
   "metadata": {},
   "outputs": [],
   "source": [
    "# Nesta etapa o whatsapp já esteja carregado no webdriver:\n",
    "\n",
    "# Iremos importar uma tabela para a memória:\n",
    "\n",
    "import pandas as pd\n",
    "\n",
    "tabela = pd.read_excel(\"Envios.xlsx\")\n",
    "\n",
    "#display(tabela) # Para visualizar o conteúdo da tabela importada na memória."
   ]
  },
  {
   "cell_type": "code",
   "execution_count": 19,
   "metadata": {},
   "outputs": [
    {
     "ename": "NoSuchElementException",
     "evalue": "Message: no such element: Unable to locate element: {\"method\":\"xpath\",\"selector\":\"//*[@id=\"app\"]/div/span[2]/div/span/div/div/div/div/div/div[1]\"}\n  (Session info: chrome=123.0.6312.86); For documentation on this error, please visit: https://www.selenium.dev/documentation/webdriver/troubleshooting/errors#no-such-element-exception\nStacktrace:\n\tGetHandleVerifier [0x00007FF6EB3B70C2+63090]\n\t(No symbol) [0x00007FF6EB322D12]\n\t(No symbol) [0x00007FF6EB1BEC65]\n\t(No symbol) [0x00007FF6EB20499D]\n\t(No symbol) [0x00007FF6EB204ADC]\n\t(No symbol) [0x00007FF6EB245B37]\n\t(No symbol) [0x00007FF6EB22701F]\n\t(No symbol) [0x00007FF6EB243412]\n\t(No symbol) [0x00007FF6EB226D83]\n\t(No symbol) [0x00007FF6EB1F83A8]\n\t(No symbol) [0x00007FF6EB1F9441]\n\tGetHandleVerifier [0x00007FF6EB7B262D+4238301]\n\tGetHandleVerifier [0x00007FF6EB7EF78D+4488509]\n\tGetHandleVerifier [0x00007FF6EB7E7A6F+4456479]\n\tGetHandleVerifier [0x00007FF6EB490606+953270]\n\t(No symbol) [0x00007FF6EB32E5DF]\n\t(No symbol) [0x00007FF6EB3292B4]\n\t(No symbol) [0x00007FF6EB3293EB]\n\t(No symbol) [0x00007FF6EB319C24]\n\tBaseThreadInitThunk [0x00007FF8B7D9257D+29]\n\tRtlUserThreadStart [0x00007FF8B910AA58+40]\n",
     "output_type": "error",
     "traceback": [
      "\u001b[1;31m---------------------------------------------------------------------------\u001b[0m",
      "\u001b[1;31mNoSuchElementException\u001b[0m                    Traceback (most recent call last)",
      "Cell \u001b[1;32mIn[19], line 29\u001b[0m\n\u001b[0;32m     26\u001b[0m time\u001b[38;5;241m.\u001b[39msleep(\u001b[38;5;241m2\u001b[39m)\n\u001b[0;32m     28\u001b[0m \u001b[38;5;66;03m# Verificar se o número de telefone é inválido:\u001b[39;00m\n\u001b[1;32m---> 29\u001b[0m \u001b[38;5;28;01mif\u001b[39;00m \u001b[38;5;28mlen\u001b[39m(\u001b[43mnavegador\u001b[49m\u001b[38;5;241;43m.\u001b[39;49m\u001b[43mfind_element\u001b[49m\u001b[43m(\u001b[49m\u001b[43mBy\u001b[49m\u001b[38;5;241;43m.\u001b[39;49m\u001b[43mXPATH\u001b[49m\u001b[43m,\u001b[49m\u001b[38;5;124;43m'\u001b[39;49m\u001b[38;5;124;43m//*[@id=\u001b[39;49m\u001b[38;5;124;43m\"\u001b[39;49m\u001b[38;5;124;43mapp\u001b[39;49m\u001b[38;5;124;43m\"\u001b[39;49m\u001b[38;5;124;43m]/div/span[2]/div/span/div/div/div/div/div/div[1]\u001b[39;49m\u001b[38;5;124;43m'\u001b[39;49m\u001b[43m)\u001b[49m) \u001b[38;5;241m<\u001b[39m \u001b[38;5;241m1\u001b[39m:\n\u001b[0;32m     30\u001b[0m     \u001b[38;5;66;03m# Pressionar o botão de enviar:\u001b[39;00m\n\u001b[0;32m     31\u001b[0m       navegador\u001b[38;5;241m.\u001b[39mfind_element(By\u001b[38;5;241m.\u001b[39mXPATH ,\u001b[38;5;124m'\u001b[39m\u001b[38;5;124m//*[@id=\u001b[39m\u001b[38;5;124m\"\u001b[39m\u001b[38;5;124mmain\u001b[39m\u001b[38;5;124m\"\u001b[39m\u001b[38;5;124m]/footer/div[1]/div/span[2]/div/div[2]/div[2]/button\u001b[39m\u001b[38;5;124m'\u001b[39m)\u001b[38;5;241m.\u001b[39mclick()\n\u001b[0;32m     32\u001b[0m       time\u001b[38;5;241m.\u001b[39msleep(\u001b[38;5;241m2\u001b[39m)\n",
      "File \u001b[1;32mc:\\Python312\\Lib\\site-packages\\selenium\\webdriver\\remote\\webdriver.py:741\u001b[0m, in \u001b[0;36mWebDriver.find_element\u001b[1;34m(self, by, value)\u001b[0m\n\u001b[0;32m    738\u001b[0m     by \u001b[38;5;241m=\u001b[39m By\u001b[38;5;241m.\u001b[39mCSS_SELECTOR\n\u001b[0;32m    739\u001b[0m     value \u001b[38;5;241m=\u001b[39m \u001b[38;5;124mf\u001b[39m\u001b[38;5;124m'\u001b[39m\u001b[38;5;124m[name=\u001b[39m\u001b[38;5;124m\"\u001b[39m\u001b[38;5;132;01m{\u001b[39;00mvalue\u001b[38;5;132;01m}\u001b[39;00m\u001b[38;5;124m\"\u001b[39m\u001b[38;5;124m]\u001b[39m\u001b[38;5;124m'\u001b[39m\n\u001b[1;32m--> 741\u001b[0m \u001b[38;5;28;01mreturn\u001b[39;00m \u001b[38;5;28;43mself\u001b[39;49m\u001b[38;5;241;43m.\u001b[39;49m\u001b[43mexecute\u001b[49m\u001b[43m(\u001b[49m\u001b[43mCommand\u001b[49m\u001b[38;5;241;43m.\u001b[39;49m\u001b[43mFIND_ELEMENT\u001b[49m\u001b[43m,\u001b[49m\u001b[43m \u001b[49m\u001b[43m{\u001b[49m\u001b[38;5;124;43m\"\u001b[39;49m\u001b[38;5;124;43musing\u001b[39;49m\u001b[38;5;124;43m\"\u001b[39;49m\u001b[43m:\u001b[49m\u001b[43m \u001b[49m\u001b[43mby\u001b[49m\u001b[43m,\u001b[49m\u001b[43m \u001b[49m\u001b[38;5;124;43m\"\u001b[39;49m\u001b[38;5;124;43mvalue\u001b[39;49m\u001b[38;5;124;43m\"\u001b[39;49m\u001b[43m:\u001b[49m\u001b[43m \u001b[49m\u001b[43mvalue\u001b[49m\u001b[43m}\u001b[49m\u001b[43m)\u001b[49m[\u001b[38;5;124m\"\u001b[39m\u001b[38;5;124mvalue\u001b[39m\u001b[38;5;124m\"\u001b[39m]\n",
      "File \u001b[1;32mc:\\Python312\\Lib\\site-packages\\selenium\\webdriver\\remote\\webdriver.py:347\u001b[0m, in \u001b[0;36mWebDriver.execute\u001b[1;34m(self, driver_command, params)\u001b[0m\n\u001b[0;32m    345\u001b[0m response \u001b[38;5;241m=\u001b[39m \u001b[38;5;28mself\u001b[39m\u001b[38;5;241m.\u001b[39mcommand_executor\u001b[38;5;241m.\u001b[39mexecute(driver_command, params)\n\u001b[0;32m    346\u001b[0m \u001b[38;5;28;01mif\u001b[39;00m response:\n\u001b[1;32m--> 347\u001b[0m     \u001b[38;5;28;43mself\u001b[39;49m\u001b[38;5;241;43m.\u001b[39;49m\u001b[43merror_handler\u001b[49m\u001b[38;5;241;43m.\u001b[39;49m\u001b[43mcheck_response\u001b[49m\u001b[43m(\u001b[49m\u001b[43mresponse\u001b[49m\u001b[43m)\u001b[49m\n\u001b[0;32m    348\u001b[0m     response[\u001b[38;5;124m\"\u001b[39m\u001b[38;5;124mvalue\u001b[39m\u001b[38;5;124m\"\u001b[39m] \u001b[38;5;241m=\u001b[39m \u001b[38;5;28mself\u001b[39m\u001b[38;5;241m.\u001b[39m_unwrap_value(response\u001b[38;5;241m.\u001b[39mget(\u001b[38;5;124m\"\u001b[39m\u001b[38;5;124mvalue\u001b[39m\u001b[38;5;124m\"\u001b[39m, \u001b[38;5;28;01mNone\u001b[39;00m))\n\u001b[0;32m    349\u001b[0m     \u001b[38;5;28;01mreturn\u001b[39;00m response\n",
      "File \u001b[1;32mc:\\Python312\\Lib\\site-packages\\selenium\\webdriver\\remote\\errorhandler.py:229\u001b[0m, in \u001b[0;36mErrorHandler.check_response\u001b[1;34m(self, response)\u001b[0m\n\u001b[0;32m    227\u001b[0m         alert_text \u001b[38;5;241m=\u001b[39m value[\u001b[38;5;124m\"\u001b[39m\u001b[38;5;124malert\u001b[39m\u001b[38;5;124m\"\u001b[39m]\u001b[38;5;241m.\u001b[39mget(\u001b[38;5;124m\"\u001b[39m\u001b[38;5;124mtext\u001b[39m\u001b[38;5;124m\"\u001b[39m)\n\u001b[0;32m    228\u001b[0m     \u001b[38;5;28;01mraise\u001b[39;00m exception_class(message, screen, stacktrace, alert_text)  \u001b[38;5;66;03m# type: ignore[call-arg]  # mypy is not smart enough here\u001b[39;00m\n\u001b[1;32m--> 229\u001b[0m \u001b[38;5;28;01mraise\u001b[39;00m exception_class(message, screen, stacktrace)\n",
      "\u001b[1;31mNoSuchElementException\u001b[0m: Message: no such element: Unable to locate element: {\"method\":\"xpath\",\"selector\":\"//*[@id=\"app\"]/div/span[2]/div/span/div/div/div/div/div/div[1]\"}\n  (Session info: chrome=123.0.6312.86); For documentation on this error, please visit: https://www.selenium.dev/documentation/webdriver/troubleshooting/errors#no-such-element-exception\nStacktrace:\n\tGetHandleVerifier [0x00007FF6EB3B70C2+63090]\n\t(No symbol) [0x00007FF6EB322D12]\n\t(No symbol) [0x00007FF6EB1BEC65]\n\t(No symbol) [0x00007FF6EB20499D]\n\t(No symbol) [0x00007FF6EB204ADC]\n\t(No symbol) [0x00007FF6EB245B37]\n\t(No symbol) [0x00007FF6EB22701F]\n\t(No symbol) [0x00007FF6EB243412]\n\t(No symbol) [0x00007FF6EB226D83]\n\t(No symbol) [0x00007FF6EB1F83A8]\n\t(No symbol) [0x00007FF6EB1F9441]\n\tGetHandleVerifier [0x00007FF6EB7B262D+4238301]\n\tGetHandleVerifier [0x00007FF6EB7EF78D+4488509]\n\tGetHandleVerifier [0x00007FF6EB7E7A6F+4456479]\n\tGetHandleVerifier [0x00007FF6EB490606+953270]\n\t(No symbol) [0x00007FF6EB32E5DF]\n\t(No symbol) [0x00007FF6EB3292B4]\n\t(No symbol) [0x00007FF6EB3293EB]\n\t(No symbol) [0x00007FF6EB319C24]\n\tBaseThreadInitThunk [0x00007FF8B7D9257D+29]\n\tRtlUserThreadStart [0x00007FF8B910AA58+40]\n"
     ]
    }
   ],
   "source": [
    "# Lib para converter texto normal em Encode.\n",
    "import urllib\n",
    "import urllib.parse\n",
    "import time\n",
    "\n",
    "# Percorrer cada linha da tabela.   \n",
    "for linha in tabela.index:\n",
    "    # Extrair a linha e coluna:\n",
    "    nome = tabela.loc[linha, \"nome\"]\n",
    "    mensagem = tabela.loc[linha, \"mensagem\"]\n",
    "    arquivo = tabela.loc[linha, \"arquivo\"]\n",
    "    numero = tabela.loc[linha, \"telefone\"]\n",
    "\n",
    "    # Tratamento do texto Placeholder\n",
    "    texto = mensagem.replace(\"Fulano\", nome)\n",
    "    texto = urllib.parse.quote(texto)\n",
    "    #print(texto)\n",
    "\n",
    "    # Enviar mensagem.\n",
    "    link = f\"https://web.whatsapp.com/send?phone={numero}&text={texto}\"\n",
    "    navegador.get(link)\n",
    "\n",
    "    # Esperar a tela do whatsapp web carregar assim que carregar um elemento identificado como principal:\n",
    "    while len(navegador.find_elements(By.ID,'side')) < 1: # Enquanto a lista de elementos não conter side.\n",
    "         time.sleep(1)\n",
    "    time.sleep(2)\n",
    "\n",
    "    # Verificar se o número de telefone é inválido:\n",
    "    if len(navegador.find_elements(By.XPATH,'//*[@id=\"app\"]/div/span[2]/div/span/div/div/div/div/div/div[1]')) < 1:\n",
    "        # Pressionar o botão de enviar:\n",
    "          navegador.find_element(By.XPATH ,'//*[@id=\"main\"]/footer/div[1]/div/span[2]/div/div[2]/div[2]/button').click()\n",
    "          time.sleep(2)\n"
   ]
  }
 ],
 "metadata": {
  "kernelspec": {
   "display_name": "Python 3",
   "language": "python",
   "name": "python3"
  },
  "language_info": {
   "codemirror_mode": {
    "name": "ipython",
    "version": 3
   },
   "file_extension": ".py",
   "mimetype": "text/x-python",
   "name": "python",
   "nbconvert_exporter": "python",
   "pygments_lexer": "ipython3",
   "version": "3.12.1"
  }
 },
 "nbformat": 4,
 "nbformat_minor": 2
}
