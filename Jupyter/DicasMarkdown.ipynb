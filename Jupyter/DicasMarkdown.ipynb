{
 "cells": [
  {
   "cell_type": "markdown",
   "metadata": {},
   "source": [
    "# Dicas de Markedown\n",
    "\n",
    "Extraído do [site](https://docs.pipz.com/central-de-ajuda/learning-center/guia-basico-de-markdown#open).\n",
    "\n",
    "\n",
    "\n",
    "\n",
    "\n"
   ]
  },
  {
   "cell_type": "markdown",
   "metadata": {},
   "source": [
    "Este é um trecho de código `Trecho do código`.\n",
    "\n",
    "* Já este é um código escrito em python.\n",
    "\n",
    "```\n",
    "print(\"Olá personas\");\n",
    "\n",
    "```\n",
    "\n",
    "\n",
    "~~~javascript\n",
    "Esta é uma linha de código em Javascript.\n",
    "~~~\n",
    "\n",
    "\n",
    "\n",
    "\n",
    "* Criando tabelas:\n",
    "\n",
    "Alinhado a esquerda | Centralizado | Alinhado a direita\n",
    ":--------- | :------: | -------:\n",
    "Valor | Valor | Valor"
   ]
  }
 ],
 "metadata": {
  "language_info": {
   "name": "python"
  }
 },
 "nbformat": 4,
 "nbformat_minor": 2
}
