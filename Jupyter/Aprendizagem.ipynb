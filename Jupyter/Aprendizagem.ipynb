{
 "cells": [
  {
   "cell_type": "markdown",
   "id": "ade37705",
   "metadata": {},
   "source": [
    "Texto para execução da linha de código ..."
   ]
  },
  {
   "cell_type": "code",
   "execution_count": 1,
   "id": "1d9e276c",
   "metadata": {},
   "outputs": [
    {
     "name": "stdout",
     "output_type": "stream",
     "text": [
      "Atanaufo\n"
     ]
    }
   ],
   "source": [
    "print(\"Atanaufo\")"
   ]
  },
  {
   "cell_type": "code",
   "execution_count": 2,
   "id": "a077e45b",
   "metadata": {},
   "outputs": [
    {
     "name": "stdout",
     "output_type": "stream",
     "text": [
      "Primeira Linha\n",
      "Segunda Linha\n"
     ]
    }
   ],
   "source": [
    "print(\"Primeira Linha\")\n",
    "print(\"Segunda Linha\")"
   ]
  },
  {
   "cell_type": "code",
   "execution_count": null,
   "id": "70178552",
   "metadata": {},
   "outputs": [],
   "source": []
  },
  {
   "cell_type": "code",
   "execution_count": null,
   "id": "9e0ee1e6",
   "metadata": {},
   "outputs": [],
   "source": []
  }
 ],
 "metadata": {
  "kernelspec": {
   "display_name": "Python 3 (ipykernel)",
   "language": "python",
   "name": "python3"
  },
  "language_info": {
   "codemirror_mode": {
    "name": "ipython",
    "version": 3
   },
   "file_extension": ".py",
   "mimetype": "text/x-python",
   "name": "python",
   "nbconvert_exporter": "python",
   "pygments_lexer": "ipython3",
   "version": "3.9.13"
  }
 },
 "nbformat": 4,
 "nbformat_minor": 5
}
