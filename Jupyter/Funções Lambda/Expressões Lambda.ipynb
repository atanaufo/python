{
 "cells": [
  {
   "cell_type": "markdown",
   "metadata": {},
   "source": [
    "# Expressões Lambda - Simplificado\n",
    "\n",
    "- Funções \"Anônimas\" -> nome ruim pra uma função que você não precisa definir e depois usar, você define já usando direto.\n",
    "\n",
    "Ex:\n",
    "\n",
    "Digamos que você está avaliando o preço de um serviço e quer saber quanto de imposto será cobrado sobre o serviço.\n",
    "O imposto é correspondente a 30% do valor do produto"
   ]
  },
  {
   "cell_type": "code",
   "execution_count": 3,
   "metadata": {},
   "outputs": [
    {
     "name": "stdout",
     "output_type": "stream",
     "text": [
      "1.5\n"
     ]
    }
   ],
   "source": [
    "preco = 5\n",
    "\n",
    "# função normal\n",
    "def calcular_imposto(preco):\n",
    "    return preco * 0.3\n",
    "\n",
    "print(calcular_imposto(preco))"
   ]
  },
  {
   "cell_type": "code",
   "execution_count": 5,
   "metadata": {},
   "outputs": [
    {
     "name": "stdout",
     "output_type": "stream",
     "text": [
      "1.5\n"
     ]
    }
   ],
   "source": [
    "# função lambda\n",
    "\n",
    "calcular_imposto2 = lambda x: x*0.3\n",
    "print(calcular_imposto2(preco))"
   ]
  },
  {
   "cell_type": "markdown",
   "metadata": {},
   "source": [
    "### Tá, mas qual a diferença?\n",
    "\n",
    "Quando você aplica essa função dentro de outros métodos do Python. Aí sim existe vantagem.\n",
    "\n",
    "Ex: temos agora uma lista de preços."
   ]
  },
  {
   "cell_type": "code",
   "execution_count": 9,
   "metadata": {},
   "outputs": [
    {
     "name": "stdout",
     "output_type": "stream",
     "text": [
      "[300, 1500, 30, 75]\n"
     ]
    }
   ],
   "source": [
    "precos = [100, 500, 10, 25]\n",
    "\n",
    "impostos = list(map(lambda x: x*0.3, precos))\n",
    "print(impostos)"
   ]
  }
 ],
 "metadata": {
  "kernelspec": {
   "display_name": "Python 3",
   "language": "python",
   "name": "python3"
  },
  "language_info": {
   "codemirror_mode": {
    "name": "ipython",
    "version": 3
   },
   "file_extension": ".py",
   "mimetype": "text/x-python",
   "name": "python",
   "nbconvert_exporter": "python",
   "pygments_lexer": "ipython3",
   "version": "3.8.5"
  }
 },
 "nbformat": 4,
 "nbformat_minor": 4
}
