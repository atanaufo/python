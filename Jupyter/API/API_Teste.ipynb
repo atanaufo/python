{
 "cells": [
  {
   "cell_type": "code",
   "execution_count": null,
   "id": "29004c1e",
   "metadata": {},
   "outputs": [],
   "source": [
    "\"\"\"\n",
    "Caso não tenha instalado: Flask e Pandas.\n",
    "\n",
    "\"\"\"\n",
    "\n",
    "#!pip install pandas"
   ]
  },
  {
   "cell_type": "code",
   "execution_count": null,
   "id": "b42129f4",
   "metadata": {},
   "outputs": [],
   "source": [
    "#!pip install flask"
   ]
  },
  {
   "cell_type": "code",
   "execution_count": 1,
   "id": "ef420d8a",
   "metadata": {},
   "outputs": [
    {
     "name": "stdout",
     "output_type": "stream",
     "text": [
      " * Serving Flask app '__main__'\n",
      " * Debug mode: off\n"
     ]
    },
    {
     "name": "stderr",
     "output_type": "stream",
     "text": [
      "WARNING: This is a development server. Do not use it in a production deployment. Use a production WSGI server instead.\n",
      " * Running on all addresses (0.0.0.0)\n",
      " * Running on http://127.0.0.1:5000\n",
      " * Running on http://192.168.2.22:5000\n",
      "Press CTRL+C to quit\n",
      "127.0.0.1 - - [13/Jun/2023 17:02:04] \"GET / HTTP/1.1\" 200 -\n",
      "127.0.0.1 - - [13/Jun/2023 17:02:10] \"GET /pegarvendas HTTP/1.1\" 200 -\n",
      "127.0.0.1 - - [13/Jun/2023 17:02:35] \"GET /pegarvendas HTTP/1.1\" 200 -\n"
     ]
    }
   ],
   "source": [
    "import pandas as pd\n",
    "from flask import Flask, jsonify\n",
    "\n",
    "app = Flask(__name__)\n",
    "\n",
    "# Construir as funcionalidades:\n",
    "@app.route('/')\n",
    "def homepage():\n",
    "  return 'API está no ar.'\n",
    "\n",
    "@app.route('/pegarvendas')\n",
    "def pegarvendas():\n",
    "  tabela = pd.read_csv('registros.csv')\n",
    "  total_vendas = tabela['Vendas'].sum()\n",
    "  resposta = {'total_Vendas' : total_vendas}\n",
    "  return jsonify(resposta)\n",
    "  \n",
    "# Rodar a nossa API:\n",
    "app.run(host='0.0.0.0')\n",
    "\n",
    "\n",
    "#tabela = pd.read_csv('registros.csv')\n",
    "#print(tabela)\n",
    "#total_vendas = tabela['Vendas'].sum()\n",
    "#print(total_vendas)"
   ]
  },
  {
   "cell_type": "code",
   "execution_count": null,
   "id": "026cd267",
   "metadata": {},
   "outputs": [],
   "source": []
  }
 ],
 "metadata": {
  "kernelspec": {
   "display_name": "Python 3 (ipykernel)",
   "language": "python",
   "name": "python3"
  },
  "language_info": {
   "codemirror_mode": {
    "name": "ipython",
    "version": 3
   },
   "file_extension": ".py",
   "mimetype": "text/x-python",
   "name": "python",
   "nbconvert_exporter": "python",
   "pygments_lexer": "ipython3",
   "version": "3.10.9"
  }
 },
 "nbformat": 4,
 "nbformat_minor": 5
}
