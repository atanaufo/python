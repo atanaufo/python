{
 "cells": [
  {
   "cell_type": "code",
   "execution_count": null,
   "id": "518d31b4",
   "metadata": {},
   "outputs": [],
   "source": [
    "# Caso não estiver instalado:\n",
    "#!pip install requests"
   ]
  },
  {
   "cell_type": "markdown",
   "id": "e64781b2",
   "metadata": {},
   "source": [
    "# Consumindo da API de teste criado no vídeo: \n",
    "https://www.youtube.com/watch?v=WWVEymSt1iI\n",
    "\n"
   ]
  },
  {
   "cell_type": "code",
   "execution_count": 1,
   "id": "e0a29dc7",
   "metadata": {},
   "outputs": [
    {
     "name": "stdout",
     "output_type": "stream",
     "text": [
      "<Response [200]>\n",
      "{'total_Vendas': 3026.1000000000004}\n",
      "3026.1000000000004\n"
     ]
    }
   ],
   "source": [
    "import requests\n",
    "\n",
    "#link = 'https://pyapi.atanauforamalho.repl.co/pegarvendas'\n",
    "link = 'http://127.0.0.1:5000/pegarvendas'\n",
    "requisicao = requests.get(link)\n",
    "\n",
    "print(requisicao)\n",
    "print(requisicao.json())\n",
    "\n",
    "dicionario = requisicao.json()\n",
    "\n",
    "print(dicionario['total_Vendas'])"
   ]
  },
  {
   "cell_type": "code",
   "execution_count": null,
   "id": "cb0bcd89",
   "metadata": {},
   "outputs": [],
   "source": []
  },
  {
   "cell_type": "code",
   "execution_count": null,
   "id": "a6fc6fc1",
   "metadata": {},
   "outputs": [],
   "source": []
  },
  {
   "cell_type": "code",
   "execution_count": null,
   "id": "06faf29a",
   "metadata": {},
   "outputs": [],
   "source": []
  }
 ],
 "metadata": {
  "kernelspec": {
   "display_name": "Python 3 (ipykernel)",
   "language": "python",
   "name": "python3"
  },
  "language_info": {
   "codemirror_mode": {
    "name": "ipython",
    "version": 3
   },
   "file_extension": ".py",
   "mimetype": "text/x-python",
   "name": "python",
   "nbconvert_exporter": "python",
   "pygments_lexer": "ipython3",
   "version": "3.10.9"
  }
 },
 "nbformat": 4,
 "nbformat_minor": 5
}
