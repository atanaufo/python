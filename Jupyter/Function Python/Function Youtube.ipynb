{
 "cells": [
  {
   "cell_type": "markdown",
   "metadata": {},
   "source": [
    "### Queremos padronizar os códigos dos produtos abaixo\n",
    "\n",
    "Na base de dados da empresa, todos os produtos são encontrados com 3 letras maiúsculas e 3 números. Sem nenhum espaço antes e nenhum espaço após o código do produto\n",
    "\n",
    "Aula:\n",
    "https://www.youtube.com/watch?v=XbvSBegg09s"
   ]
  },
  {
   "cell_type": "code",
   "execution_count": null,
   "metadata": {},
   "outputs": [],
   "source": [
    "produtos = [\"ABC123\", \"abd012\", \" ABS111\", \"AbB222\"]"
   ]
  },
  {
   "cell_type": "code",
   "execution_count": 3,
   "metadata": {},
   "outputs": [
    {
     "name": "stdout",
     "output_type": "stream",
     "text": [
      "ABD012\n"
     ]
    }
   ],
   "source": [
    "# Compreendendo o problema:\n",
    "\n",
    "# strip = função para remoção de espaçamento:\n",
    "\n",
    "texto = \"abd012\"\n",
    "\n",
    "texto = texto.upper()\n",
    "texto = texto.strip()\n",
    "print(texto)\n"
   ]
  },
  {
   "cell_type": "code",
   "execution_count": 4,
   "metadata": {},
   "outputs": [],
   "source": [
    "# Criando função Anônima:\n",
    "\n",
    "def tratar_texto(texto):\n",
    "    texto = texto.upper()\n",
    "    texto = texto.strip()\n",
    "    return texto"
   ]
  },
  {
   "cell_type": "code",
   "execution_count": 13,
   "metadata": {},
   "outputs": [
    {
     "name": "stdout",
     "output_type": "stream",
     "text": [
      "ABD012\n",
      "None\n"
     ]
    }
   ],
   "source": [
    "# Chamando a função:\n",
    "\n",
    "textoOriginal = \" abd012 \"\n",
    "\n",
    "textoTratado = tratar_texto(textoOriginal)\n",
    "print(textoTratado)"
   ]
  },
  {
   "cell_type": "code",
   "execution_count": null,
   "metadata": {},
   "outputs": [],
   "source": [
    "# Percorrer cada item:\n",
    "\n",
    "for i, produto in enumerate(produtos):\n",
    "    \n",
    "    "
   ]
  }
 ],
 "metadata": {
  "kernelspec": {
   "display_name": "Python 3 (ipykernel)",
   "language": "python",
   "name": "python3"
  },
  "language_info": {
   "codemirror_mode": {
    "name": "ipython",
    "version": 3
   },
   "file_extension": ".py",
   "mimetype": "text/x-python",
   "name": "python",
   "nbconvert_exporter": "python",
   "pygments_lexer": "ipython3",
   "version": "3.9.7"
  }
 },
 "nbformat": 4,
 "nbformat_minor": 4
}
