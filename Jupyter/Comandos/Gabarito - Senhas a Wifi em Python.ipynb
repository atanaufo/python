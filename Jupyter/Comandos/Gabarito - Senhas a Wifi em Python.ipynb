{
 "cells": [
  {
   "cell_type": "markdown",
   "id": "f3afc454",
   "metadata": {},
   "source": [
    "### Rodando comandos do computador pelo Python\n",
    "\n",
    "Obs: Encoding: https://docs.python.org/3/library/codecs.html#standard-encodings"
   ]
  },
  {
   "cell_type": "code",
   "execution_count": null,
   "id": "98013751",
   "metadata": {},
   "outputs": [],
   "source": [
    "# netsh wlan show profiles\n",
    "# netsh wlan show profile \"iPhone de joaop\" key = clear"
   ]
  },
  {
   "cell_type": "code",
   "execution_count": 12,
   "id": "e3deb3cc",
   "metadata": {},
   "outputs": [
    {
     "name": "stdout",
     "output_type": "stream",
     "text": [
      "\n",
      "Perfis na interface Wi-Fi:\n",
      "\n",
      "Perfis da política de grupo (somente leitura)\n",
      "---------------------------------\n",
      "    <Nenhum>\n",
      "\n",
      "Perfis do usuário\n",
      "-------------\n",
      "Todos os Perfis de Usuários: Vila 3\n",
      "Todos os Perfis de Usuários: Vila 4\n",
      "Todos os Perfis de Usuários: LIVE TIM_81F4_2G\n",
      "Todos os Perfis de Usuários: Wifi \n",
      "Todos os Perfis de Usuários: K22\n",
      "Todos os Perfis de Usuários: 2.4GHz_GOMES_SERVICOS\n",
      "Todos os Perfis de Usuários: Hotdog_da _isa\n",
      "Todos os Perfis de Usuários: 5.0GHz_GOMES_SERVICOS\n",
      "Todos os Perfis de Usuários: VIVO-1CA0\n",
      "Todos os Perfis de Usuários: METROPAX_FUNCIONARIOS\n",
      "\n",
      "\n"
     ]
    }
   ],
   "source": [
    "import subprocess\n",
    "\n",
    "informacoes = subprocess.check_output([\"netsh\", \"wlan\", \"show\", \"profiles\"], encoding='cp860')\n",
    "print(informacoes)"
   ]
  },
  {
   "cell_type": "code",
   "execution_count": 13,
   "id": "6bf22860",
   "metadata": {},
   "outputs": [
    {
     "name": "stdout",
     "output_type": "stream",
     "text": [
      "\n",
      "Perfil METROPAX_FUNCIONARIOS na interface Wi-Fi: \n",
      "======================================================================= \n",
      "\n",
      "Aplicado: Todos os Perfis de Usuários\n",
      "\n",
      "Informações do perfil \n",
      "------------------- \n",
      "    Versão                : 1\n",
      "    Tipo                   : LAN sem Fio\n",
      "    Nome                   : METROPAX_FUNCIONARIOS\n",
      "    Opções de controle        : \n",
      "        Modo de conexão    : Conectar automaticamente\n",
      "        Transmissão da rede  : conectar somente se esta rede estiver transmitindo\n",
      "        Alternância automática : Não alternar para outra rede\n",
      "        Uso de MAC Aleatório: Desabilitado\n",
      "\n",
      "Configurações de conectividade \n",
      "--------------------- \n",
      "    Número de SSIDs        : 1\n",
      "    Nome SSID              : \"METROPAX_FUNCIONARIOS\"\n",
      "    Tipo de rede           : Infraestrutura\n",
      "    Tipo de Rádio               : [ Qualquer Tipo de Rádio ]\n",
      "    Extensão do fornecedor       : Não presente\n",
      "\n",
      "Configurações de segurança \n",
      "----------------- \n",
      "    Autenticação         : WPA2-Personal\n",
      "    Codificação         : CCMP\n",
      "    Autenticação         : WPA2-Personal\n",
      "    Codificação         : GCMP\n",
      "    Chave de segurança           : Presente\n",
      "\n",
      "Configurações de custo \n",
      "------------- \n",
      "    Custo                   : irrestrito\n",
      "    Congestionado              : não\n",
      "    Limite de Dados Aproximado : não\n",
      "    Limite de Dados Excedido        : não\n",
      "    Roaming                : não\n",
      "    Origem de Custo            : padrão\n",
      "\n",
      "\n"
     ]
    }
   ],
   "source": [
    "nome_wifi = \"METROPAX_FUNCIONARIOS\"\n",
    "informacoes = subprocess.check_output([\"netsh\", \"wlan\", \"show\", \"profile\", nome_wifi, \"key\", \"=\", \"clear\"], encoding='cp858')\n",
    "print(informacoes)"
   ]
  },
  {
   "cell_type": "code",
   "execution_count": 15,
   "id": "e1361221",
   "metadata": {},
   "outputs": [],
   "source": [
    "for linha in informacoes.split('\\n'):\n",
    "    if \"Conteúdo da Chave\" in linha:\n",
    "        # pegar a senha\n",
    "        pos = linha.find(\":\")\n",
    "        senha = linha[pos+2:]\n",
    "        print(senha)"
   ]
  },
  {
   "cell_type": "markdown",
   "id": "10fb0861",
   "metadata": {},
   "source": [
    "# Executando comando:"
   ]
  },
  {
   "cell_type": "code",
   "execution_count": 16,
   "id": "b5efde98",
   "metadata": {},
   "outputs": [
    {
     "name": "stdout",
     "output_type": "stream",
     "text": [
      "Python 3.10.9\n",
      "\n"
     ]
    }
   ],
   "source": [
    "cmd = subprocess.check_output([\"python\", \"--version\"], encoding='cp860')\n",
    "print(cmd)"
   ]
  },
  {
   "cell_type": "code",
   "execution_count": null,
   "id": "95f484f3",
   "metadata": {},
   "outputs": [],
   "source": []
  },
  {
   "cell_type": "code",
   "execution_count": null,
   "id": "bc6d863c",
   "metadata": {},
   "outputs": [],
   "source": []
  }
 ],
 "metadata": {
  "kernelspec": {
   "display_name": "Python 3 (ipykernel)",
   "language": "python",
   "name": "python3"
  },
  "language_info": {
   "codemirror_mode": {
    "name": "ipython",
    "version": 3
   },
   "file_extension": ".py",
   "mimetype": "text/x-python",
   "name": "python",
   "nbconvert_exporter": "python",
   "pygments_lexer": "ipython3",
   "version": "3.10.9"
  }
 },
 "nbformat": 4,
 "nbformat_minor": 5
}
