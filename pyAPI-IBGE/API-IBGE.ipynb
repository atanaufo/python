{
 "cells": [
  {
   "cell_type": "markdown",
   "metadata": {},
   "source": [
    "# Consumindo API - IBGE\n",
    "\n"
   ]
  },
  {
   "cell_type": "markdown",
   "metadata": {},
   "source": [
    "Documentação do acesso gratuito:\n",
    "\n",
    "https://servicodados.ibge.gov.br/api/docs/agregados?versao=3\n",
    "\n",
    "\n",
    "Instalar biblioteca (via Terminal):\n",
    "\n",
    "pip install requests\n",
    "\n"
   ]
  },
  {
   "cell_type": "code",
   "execution_count": null,
   "metadata": {},
   "outputs": [],
   "source": [
    "import requests\n",
    "\n",
    "link = \"https://servicodados.ibge.gov.br/api/v3/agregados/8418/periodos/2019/variaveis/12751?localidades=N3[31]\"\n",
    "\n",
    "requisicao = requests.get(link)\n",
    "\n",
    "informacoes = requisicao.json()\n",
    "\n",
    "import pprint\n",
    "\n",
    "pprint.pprint(informacoes[0]['resultados'])\n",
    "\n",
    " # variável\n",
    "item_busca = informacoes[0]['variavel']\n",
    "\n",
    "# series\n",
    "resultados = informacoes[0]['resultados'][0]['series']\n",
    "\n"
   ]
  },
  {
   "cell_type": "code",
   "execution_count": null,
   "metadata": {},
   "outputs": [],
   "source": [
    "print(item_busca)\n",
    "print(resultados)\n"
   ]
  }
 ],
 "metadata": {
  "kernelspec": {
   "display_name": "Python 3",
   "language": "python",
   "name": "python3"
  },
  "language_info": {
   "codemirror_mode": {
    "name": "ipython",
    "version": 3
   },
   "file_extension": ".py",
   "mimetype": "text/x-python",
   "name": "python",
   "nbconvert_exporter": "python",
   "pygments_lexer": "ipython3",
   "version": "3.11.1"
  },
  "orig_nbformat": 4
 },
 "nbformat": 4,
 "nbformat_minor": 2
}
